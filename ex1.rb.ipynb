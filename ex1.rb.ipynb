{
 "cells": [
  {
   "cell_type": "code",
   "execution_count": 1,
   "id": "9d0f6995",
   "metadata": {},
   "outputs": [
    {
     "name": "stdout",
     "output_type": "stream",
     "text": [
      "hello world\n"
     ]
    }
   ],
   "source": [
    "puts \"hello world\""
   ]
  }
 ],
 "metadata": {
  "kernelspec": {
   "display_name": "Ruby 3.1.2",
   "language": "ruby",
   "name": "ruby"
  },
  "language_info": {
   "file_extension": ".rb",
   "mimetype": "application/x-ruby",
   "name": "ruby",
   "version": "3.1.2"
  },
  "vscode": {
   "interpreter": {
    "hash": "db97ffcdb4b5ce924b8f8376fae07ca694be1508e59c1359f83a41dd601811b3"
   }
  }
 },
 "nbformat": 4,
 "nbformat_minor": 5
}
