{
 "cells": [
  {
   "cell_type": "code",
   "execution_count": 1,
   "metadata": {},
   "outputs": [
    {
     "name": "stdout",
     "output_type": "stream",
     "text": [
      "hggf\n"
     ]
    }
   ],
   "source": [
    "puts \"hggf\""
   ]
  },
  {
   "cell_type": "code",
   "execution_count": 3,
   "metadata": {},
   "outputs": [
    {
     "name": "stdout",
     "output_type": "stream",
     "text": [
      "there are 10 people waiting\n"
     ]
    }
   ],
   "source": [
    "n=10\n",
    "x=\"there are #{n} people waiting\"\n",
    "puts x"
   ]
  },
  {
   "cell_type": "code",
   "execution_count": 7,
   "metadata": {},
   "outputs": [
    {
     "name": "stdout",
     "output_type": "stream",
     "text": [
      "this is true\n",
      "this is false\n"
     ]
    }
   ],
   "source": [
    "boool=true\n",
    "puts \"this is #{boool}\"\n",
    "boool=5<5\n",
    "puts \"this is #{boool}\""
   ]
  },
  {
   "cell_type": "code",
   "execution_count": 12,
   "metadata": {},
   "outputs": [
    {
     "name": "stdout",
     "output_type": "stream",
     "text": [
      "there are 10 people waiting\thurry up\n"
     ]
    }
   ],
   "source": [
    "y=\"hurry up\"\n",
    "puts x+\"\\t\"+y"
   ]
  }
 ],
 "metadata": {
  "kernelspec": {
   "display_name": "Ruby 3.1.2",
   "language": "ruby",
   "name": "ruby"
  },
  "language_info": {
   "file_extension": ".rb",
   "mimetype": "application/x-ruby",
   "name": "ruby",
   "version": "3.1.2"
  },
  "orig_nbformat": 4,
  "vscode": {
   "interpreter": {
    "hash": "db97ffcdb4b5ce924b8f8376fae07ca694be1508e59c1359f83a41dd601811b3"
   }
  }
 },
 "nbformat": 4,
 "nbformat_minor": 2
}
